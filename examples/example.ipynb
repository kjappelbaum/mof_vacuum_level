{
 "cells": [
  {
   "cell_type": "code",
   "execution_count": 5,
   "metadata": {},
   "outputs": [],
   "source": [
    "from mof_vac_level import MOFVacLevel"
   ]
  },
  {
   "cell_type": "code",
   "execution_count": 6,
   "metadata": {},
   "outputs": [],
   "source": [
    "mvl = MOFVacLevel('aiida-ELECTRON_DENSITY-1_0.cube')"
   ]
  },
  {
   "cell_type": "code",
   "execution_count": 7,
   "metadata": {},
   "outputs": [],
   "source": [
    "mvl.get_vacuum_potential(res=0.4)"
   ]
  },
  {
   "cell_type": "code",
   "execution_count": null,
   "metadata": {},
   "outputs": [],
   "source": [
    "mvl.vacuum_"
   ]
  }
 ],
 "metadata": {
  "kernelspec": {
   "display_name": "Python [conda env:photocat] *",
   "language": "python",
   "name": "conda-env-photocat-py"
  }
 },
 "nbformat": 4,
 "nbformat_minor": 4
}
